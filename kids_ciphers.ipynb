{
  "nbformat": 4,
  "nbformat_minor": 0,
  "metadata": {
    "colab": {
      "name": "kids_ciphers.ipynb",
      "provenance": [],
      "collapsed_sections": [],
      "include_colab_link": true
    },
    "kernelspec": {
      "name": "python3",
      "display_name": "Python 3"
    }
  },
  "cells": [
    {
      "cell_type": "markdown",
      "metadata": {
        "id": "view-in-github",
        "colab_type": "text"
      },
      "source": [
        "<a href=\"https://colab.research.google.com/github/tedteske/kids_ciphers/blob/master/kids_ciphers.ipynb\" target=\"_parent\"><img src=\"https://colab.research.google.com/assets/colab-badge.svg\" alt=\"Open In Colab\"/></a>"
      ]
    },
    {
      "cell_type": "code",
      "metadata": {
        "id": "jBnYCweOAqdQ",
        "colab_type": "code",
        "cellView": "code",
        "colab": {}
      },
      "source": [
        "#@title Ciphers for Kids! Run this cell first.\n",
        "class codec:\n",
        "    '''\n",
        "    generic one-time pad and shifter encipher/decipher \n",
        "    key is a char string of any combination of lowercase letters, digits, and spacekey\n",
        "    \n",
        "    Example keys:\n",
        "    key = '314159265358979323846264338327950288419716939937510582' #this is a pi-key\n",
        "    key = '1' #this shifts each letter over 1. For example, 'a' becomes 'b' or 2\n",
        "    '''\n",
        "    \n",
        "    def __init__(self, key):\n",
        "        self.letters = ' abcdefghijklmnopqrstuvwxyz'\n",
        "        self.letters_len = len(self.letters)\n",
        "        self.key = self.letters_to_nums(key, self.letters)\n",
        "    \n",
        "    def clean_str(self, message):\n",
        "        punct = '!\"#$%&\\'()*+,-./:;<=>?@[\\\\]^_`{|}~‘’'\n",
        "        message = ''.join(ch for ch in message if ch not in set(punct))\n",
        "        message = message.lower()\n",
        "        return message        \n",
        "    \n",
        "    def letters_to_nums(self, key, letters):\n",
        "        \"converts character string list of integers\"\n",
        "        new_key = []\n",
        "        for x in key:\n",
        "            x = str(x)\n",
        "            if x.isalpha():\n",
        "                new_key.append(letters.index(x))\n",
        "            else:\n",
        "                if x == ' ': x = '0'\n",
        "                new_key.append(int(x))\n",
        "        return new_key\n",
        "    \n",
        "    def expand_key(self, message):\n",
        "        '''\n",
        "        concatenates the key with itself until at least as long as message\n",
        "        '''\n",
        "        updated_key = self.key\n",
        "        while len(message) > len(updated_key): \n",
        "            updated_key += self.key\n",
        "        self.key = updated_key\n",
        "    \n",
        "    def __call__(self, message, convert_to_letters=False):\n",
        "        message = self.clean_str(message)\n",
        "        self.expand_key(message)\n",
        "        numbered_message = [self.letters.index(x) for x in message]\n",
        "        self.coded_message = [(y + x)%self.letters_len for x, y in zip(self.key, numbered_message)]\n",
        "        if convert_to_letters:\n",
        "            self.coded_message = ''.join([self.letters[x] for x in self.coded_message])\n",
        "        return self.coded_message\n",
        "\n",
        "    def decode(self, coded_message=''):\n",
        "        if coded_message == '': coded_message = self.coded_message\n",
        "        self.expand_key(coded_message)\n",
        "        coded_message = self.letters_to_nums(coded_message, self.letters)\n",
        "        numbered_message = [(y - x + self.letters_len)%self.letters_len for x, y in zip(self.key, coded_message)]\n",
        "        decoded_message = ''.join([self.letters[x] for x in numbered_message])\n",
        "        return decoded_message\n",
        "    "
      ],
      "execution_count": 0,
      "outputs": []
    },
    {
      "cell_type": "code",
      "metadata": {
        "id": "JCJuakUeAqdd",
        "colab_type": "code",
        "cellView": "code",
        "outputId": "49c7f140-7b64-4147-ef22-28f38da0c3f7",
        "colab": {
          "base_uri": "https://localhost:8080/",
          "height": 131
        }
      },
      "source": [
        "#@title Viktor's Codec { run: \"auto\", vertical-output: true }\n",
        "\n",
        "viktor_key = \"314159265358979323846264338327950288419716939937510582\" #@param {type:\"string\"}\n",
        "\n",
        "viktor_coder = codec(viktor_key)\n",
        "viktor_message = \"Abraham Lincoln has a scrip for you\" #@param {type:\"string\"}\n",
        "viktor_code = \"\"\n",
        "print(\"This is the coded message:\")\n",
        "print(viktor_coder(viktor_message,False))\n",
        "print(viktor_coder.decode())\n",
        "print(\"\\n\")\n",
        "\n",
        "try:\n",
        "  viktor_code = \"\" #@param {type:\"raw\"}\n",
        "  print(\"This is the decoded code:\")\n",
        "  print(viktor_coder.decode(viktor_code))\n",
        "except:\n",
        "  pass"
      ],
      "execution_count": 3,
      "outputs": [
        {
          "output_type": "stream",
          "text": [
            "This is the coded message:\n",
            "[4, 3, 22, 2, 13, 10, 15, 6, 17, 12, 19, 11, 24, 19, 23, 3, 10, 4, 0, 4, 7, 2, 25, 7, 21, 12, 24, 3, 8, 22, 0, 5, 25, 17, 2]\n",
            "abraham lincoln has a scrip for you\n",
            "\n",
            "\n",
            "This is the decoded code:\n",
            "abraham lincoln has a scrip for you\n"
          ],
          "name": "stdout"
        }
      ]
    },
    {
      "cell_type": "code",
      "metadata": {
        "id": "v7Wcu_jqrA7h",
        "colab_type": "code",
        "cellView": "form",
        "outputId": "bf1cc897-df48-4657-e36f-52361321eac4",
        "colab": {
          "base_uri": "https://localhost:8080/",
          "height": 136
        }
      },
      "source": [
        "#@title Pippa's Codec { run: \"auto\", vertical-output: true }\n",
        "\n",
        "pippa_key = \"winkylovesyou\" #@param {type:\"string\"}\n",
        "\n",
        "pippa_coder = codec(pippa_key)\n",
        "pippa_message = \"Life has a scrip for you\" #@param {type:\"string\"}\n",
        "pippa_code = \"\"\n",
        "print(\"This is the coded message:\")\n",
        "print(pippa_coder(pippa_message,False))\n",
        "print(pippa_coder.decode())\n",
        "print(\"\\n\")\n",
        "\n",
        "try:\n",
        "  pippa_code =  \"\" #@param {type:\"raw\"}\n",
        "  print(\"This is the decoded code:\")\n",
        "  print(pippa_coder.decode(pippa_code))\n",
        "except:\n",
        "  pass\n"
      ],
      "execution_count": 0,
      "outputs": [
        {
          "output_type": "stream",
          "text": [
            "This is the coded message:\n",
            "[8, 18, 20, 16, 25, 20, 16, 14, 5, 20, 25, 7, 24, 14, 18, 3, 11, 4, 0, 6, 22, 3, 7, 19]\n",
            "life has a scrip for you\n",
            "\n",
            "\n",
            "This is the decoded code:\n",
            "life has a scrip for you\n"
          ],
          "name": "stdout"
        }
      ]
    },
    {
      "cell_type": "code",
      "metadata": {
        "id": "de-nUQncHlJJ",
        "colab_type": "code",
        "colab": {}
      },
      "source": [
        "  "
      ],
      "execution_count": 0,
      "outputs": []
    }
  ]
}