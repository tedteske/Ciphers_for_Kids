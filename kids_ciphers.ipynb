{
  "nbformat": 4,
  "nbformat_minor": 0,
  "metadata": {
    "colab": {
      "name": "kids_ciphers.ipynb",
      "provenance": [],
      "collapsed_sections": [],
      "include_colab_link": true
    },
    "kernelspec": {
      "name": "python3",
      "display_name": "Python 3"
    }
  },
  "cells": [
    {
      "cell_type": "markdown",
      "metadata": {
        "id": "view-in-github",
        "colab_type": "text"
      },
      "source": [
        "<a href=\"https://colab.research.google.com/github/tedteske/Ciphers_for_Kids/blob/master/kids_ciphers.ipynb\" target=\"_parent\"><img src=\"https://colab.research.google.com/assets/colab-badge.svg\" alt=\"Open In Colab\"/></a>"
      ]
    },
    {
      "cell_type": "code",
      "metadata": {
        "id": "jBnYCweOAqdQ",
        "colab_type": "code",
        "cellView": "form",
        "colab": {}
      },
      "source": [
        "#@title Ciphers for Kids! Run this cell first.\n",
        "class kids_cipher: \n",
        "    '''\n",
        "    Class of generic one-time pad and shifter encipher/decipher tool. \n",
        "\n",
        "    Attributes\n",
        "    ----------\n",
        "    key : str; char string of any combination of lowercase letters, digits, \n",
        "                and spacekey\n",
        "    \n",
        "    Example keys:\n",
        "    \n",
        "    # This is a pi-key\n",
        "    key = '314159265358979323846264338327950288419716939937510582'\n",
        "\n",
        "    # This shifts each letter over 1. For example, 'a' becomes 'b' or 2\n",
        "    key = '1' \n",
        "\n",
        "    # This is a one-time pad if used once, then discarded. Best if random.\n",
        "    key = 'this is a one-time pad if used once then discarded'\n",
        "\n",
        "    Methods\n",
        "    -------\n",
        "    clean_str() : Removes punctuation from message.\n",
        "    letters_to_nums() : Converts character string to list of integers.\n",
        "    expand_key() : Concatenates the key with itself \n",
        "            until at least as long as message.\n",
        "    decipher() : Deciphers the message.\n",
        "    '''\n",
        "    \n",
        "    def __init__(self, key, ignore_spaces=False):  \n",
        "        self.letters = ' abcdefghijklmnopqrstuvwxyz'\n",
        "        self.punctuation = '!\"#$%&\\'()*+,-./:;<=>?@[\\\\]^_`{|}~‘’'\n",
        "        if ignore_spaces:\n",
        "            self.letters = self.letters[1:]\n",
        "            self.punctuation = self.punctuation + ' '\n",
        "        self.letters_len = len(self.letters)\n",
        "        self.key = self.letters_to_nums(key, self.letters)\n",
        "    \n",
        "    def __call__(self, message, convert_to_letters=False):\n",
        "        message = self.clean_str(message)\n",
        "        self.expand_key(message)\n",
        "        numbered_message = [self.letters.index(x) for x in message]\n",
        "        self.enciphered_message = [(y + x)%self.letters_len \n",
        "                                   for x, y in zip(self.key, numbered_message)]\n",
        "        if convert_to_letters:\n",
        "            self.enciphered_message = ''.join([self.letters[x] \n",
        "                                               for x in self.enciphered_message])\n",
        "        return self.enciphered_message\n",
        "    \n",
        "    def clean_str(self, message):\n",
        "        '''\n",
        "        Removes punctuation from message.\n",
        "        '''\n",
        "        \n",
        "        message = ''.join(ch for ch in message \n",
        "                          if ch not in set(self.punctuation))\n",
        "        message = message.lower()\n",
        "        return message        \n",
        "    \n",
        "    def letters_to_nums(self, key, letters):\n",
        "        '''\n",
        "        Converts character string to list of integers.\n",
        "        '''\n",
        "        new_key = []\n",
        "        for x in key:\n",
        "            x = str(x)\n",
        "            if x.isalpha():\n",
        "                new_key.append(letters.index(x))\n",
        "            else:\n",
        "                if x == ' ': x = '0'\n",
        "                new_key.append(int(x))\n",
        "        return new_key\n",
        "    \n",
        "    def expand_key(self, message):\n",
        "        '''\n",
        "        Concatenates the key with itself until at least as long as message.\n",
        "        '''\n",
        "        updated_key = self.key\n",
        "        while len(message) > len(updated_key): \n",
        "            updated_key += self.key\n",
        "        self.key = updated_key\n",
        "\n",
        "    def decipher(self, enciphered_message=''):\n",
        "        '''\n",
        "        Deciphers the message.\n",
        "        '''\n",
        "        if enciphered_message == '': \n",
        "            enciphered_message = self.enciphered_message\n",
        "        self.expand_key(enciphered_message)\n",
        "        enciphered_message = self.letters_to_nums(enciphered_message, self.letters)\n",
        "        numbered_message = [(y - x + self.letters_len)%self.letters_len \n",
        "                            for x, y in zip(self.key, enciphered_message)]\n",
        "        deciphered_message = ''.join([self.letters[x] for x in numbered_message])\n",
        "        return deciphered_message\n",
        "    "
      ],
      "execution_count": 0,
      "outputs": []
    },
    {
      "cell_type": "code",
      "metadata": {
        "id": "JCJuakUeAqdd",
        "colab_type": "code",
        "cellView": "form",
        "outputId": "6d1df977-c636-458a-97d1-6d4a18552ff5",
        "colab": {
          "base_uri": "https://localhost:8080/",
          "height": 156
        }
      },
      "source": [
        "#@title Pi-key Example { run: \"auto\", vertical-output: true }\n",
        "\n",
        "pi_key = \"314159265358979323846264338327950288419716939937510582\" #@param {type:\"string\"}\n",
        "\n",
        "pi_cipher = kids_cipher(pi_key)\n",
        "message = \"There is a dollar under the chair.\" #@param {type:\"string\"}\n",
        "print(\"This is the enciphered message:\")\n",
        "print(pi_cipher(message, convert_to_letters=False))\n",
        "print(pi_cipher(message, convert_to_letters=True))\n",
        "print(pi_cipher.decipher())\n",
        "print(\"\\n\")\n",
        "\n",
        "try:\n",
        "  ciphertext =  \"\" #@param {type:\"string\"}\n",
        "  print(\"This is the deciphered message:\")\n",
        "  print(pi_cipher.decipher(ciphertext))\n",
        "except:\n",
        "  pass"
      ],
      "execution_count": 69,
      "outputs": [
        {
          "output_type": "stream",
          "text": [
            "This is the enciphered message:\n",
            "[23, 9, 9, 19, 10, 9, 11, 25, 5, 4, 5, 12, 24, 19, 21, 4, 20, 3, 2, 18, 10, 7, 24, 4, 23, 11, 13, 3, 5, 15, 10, 14, 18]\n",
            "wiisjikyedelxsudtcbrjgxdwkmceojnr\n",
            "there is a dollar under the chair\n",
            "\n",
            "\n",
            "This is the deciphered message:\n",
            "there is a dollar under the chair\n"
          ],
          "name": "stdout"
        }
      ]
    },
    {
      "cell_type": "code",
      "metadata": {
        "id": "de-nUQncHlJJ",
        "colab_type": "code",
        "colab": {
          "base_uri": "https://localhost:8080/",
          "height": 156
        },
        "cellView": "form",
        "outputId": "8c8d6c29-3b2d-4cb7-d604-86b3454fe2aa"
      },
      "source": [
        "#@title Shift-Cipher Example { run: \"auto\", vertical-output: true }\n",
        "\n",
        "shift = \"1\" #@param {type:\"string\"}\n",
        "ignore_spaces = True #@param {type:\"boolean\"}\n",
        "\n",
        "shift_cipher = kids_cipher(shift, ignore_spaces=ignore_spaces)\n",
        "message = \"There is a dollar under the chair.\" #@param {type:\"string\"}\n",
        "print(\"This is the enciphered message:\")\n",
        "print(shift_cipher(message, convert_to_letters=False))\n",
        "print(shift_cipher(message, convert_to_letters=True))\n",
        "print(shift_cipher.decipher())\n",
        "print(\"\\n\")\n",
        "\n",
        "try:\n",
        "  ciphertext =  \"\" #@param {type:\"string\"}\n",
        "  print(\"This is the deciphered message:\")\n",
        "  print(shift_cipher.decipher(ciphertext))\n",
        "except:\n",
        "  pass"
      ],
      "execution_count": 76,
      "outputs": [
        {
          "output_type": "stream",
          "text": [
            "This is the enciphered message:\n",
            "[20, 8, 5, 18, 5, 9, 19, 1, 4, 15, 12, 12, 1, 18, 21, 14, 4, 5, 18, 20, 8, 5, 3, 8, 1, 9, 18]\n",
            "uifsfjtbepmmbsvoefsuifdibjs\n",
            "thereisadollarunderthechair\n",
            "\n",
            "\n",
            "This is the deciphered message:\n",
            "thereisadollarunderthechair\n"
          ],
          "name": "stdout"
        }
      ]
    },
    {
      "cell_type": "code",
      "metadata": {
        "id": "-l4u_-RwhWV6",
        "colab_type": "code",
        "colab": {}
      },
      "source": [
        ""
      ],
      "execution_count": 0,
      "outputs": []
    }
  ]
}